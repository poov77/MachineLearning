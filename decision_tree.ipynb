{
 "cells": [
  {
   "cell_type": "code",
   "execution_count": null,
   "id": "60caadbc-7e87-411f-91d8-1b7e9bf939a7",
   "metadata": {},
   "outputs": [],
   "source": [
    "import pandas as pd\n",
    "import numpy as np\n",
    "import matplotlib.pyplot as plt\n",
    "import seaborn as sns"
   ]
  },
  {
   "cell_type": "code",
   "execution_count": null,
   "id": "9dd84717-fe4b-4a1a-a33f-94b05a32f4a7",
   "metadata": {},
   "outputs": [],
   "source": [
    "dataframe=pd.read_csv(\"WineQT.csv\")"
   ]
  },
  {
   "cell_type": "code",
   "execution_count": null,
   "id": "f7729c4c-6944-4961-a37d-1956de637a6f",
   "metadata": {},
   "outputs": [],
   "source": [
    "dataframe.head()"
   ]
  },
  {
   "cell_type": "code",
   "execution_count": null,
   "id": "84450594-0e19-4be9-83b4-55b8cc413b14",
   "metadata": {},
   "outputs": [],
   "source": [
    "dataframe.columns"
   ]
  },
  {
   "cell_type": "code",
   "execution_count": null,
   "id": "c74ddf00-9574-40ff-ba75-2e6be18e837d",
   "metadata": {},
   "outputs": [],
   "source": [
    "set(dataframe[\"quality\"])"
   ]
  },
  {
   "cell_type": "code",
   "execution_count": null,
   "id": "45458ad9-4e5b-45af-9ccf-7e77ece0ced3",
   "metadata": {},
   "outputs": [],
   "source": [
    "#EDA"
   ]
  },
  {
   "cell_type": "code",
   "execution_count": null,
   "id": "2c6109b3-276b-4d91-9f1f-53920f8dd915",
   "metadata": {},
   "outputs": [],
   "source": [
    "dataframe.corr()"
   ]
  },
  {
   "cell_type": "code",
   "execution_count": null,
   "id": "2540db2d-1035-4de9-a25f-231388ec325e",
   "metadata": {},
   "outputs": [],
   "source": [
    "dataframe.describe()"
   ]
  },
  {
   "cell_type": "code",
   "execution_count": null,
   "id": "2e6f349f-a949-4a45-ac59-8b9d40545d99",
   "metadata": {},
   "outputs": [],
   "source": [
    "plt.figure(figsize=(13,8))\n",
    "sns.heatmap(dataframe.corr(),annot=True,cmap=\"coolwarm\")\n",
    "plt.title(\"matrix view\")\n",
    "plt.show()"
   ]
  },
  {
   "cell_type": "code",
   "execution_count": null,
   "id": "fb98483c-7136-4451-b37f-6a9ad49f152a",
   "metadata": {},
   "outputs": [],
   "source": [
    "dataframe.shape\n",
    "dataframe.columns\n",
    "dataframe.info()\n",
    "dataframe.describe()\n"
   ]
  },
  {
   "cell_type": "code",
   "execution_count": null,
   "id": "e59726e8-a073-42f1-b13a-95b79d84afa5",
   "metadata": {},
   "outputs": [],
   "source": [
    "#u=check missing values\n",
    "\n",
    "dataframe.isnull().sum()\n"
   ]
  },
  {
   "cell_type": "code",
   "execution_count": null,
   "id": "1eb8cc55-307f-4621-a9b6-99deb3ee0401",
   "metadata": {},
   "outputs": [],
   "source": [
    "#Correaltion Analysis\n",
    "\n",
    "sns.heatmap(dataframe.corr(), annot=True, cmap='coolwarm')\n"
   ]
  },
  {
   "cell_type": "code",
   "execution_count": null,
   "id": "e95c4849-81a1-4882-bba3-fca2522bbe84",
   "metadata": {},
   "outputs": [],
   "source": [
    "#Distribution PLots\n",
    "\n",
    "sns.histplot()\n",
    "kde=True"
   ]
  },
  {
   "cell_type": "code",
   "execution_count": null,
   "id": "74f9f867-b549-488b-9265-2666d7f14fe1",
   "metadata": {},
   "outputs": [],
   "source": [
    "#boxplot for outliers\n",
    "\n",
    "for col in dataframe.columns:\n",
    "    if dataframe[col].dtype != 'object':\n",
    "        sns.boxplot(x=dataframe[col])\n",
    "        plt.title(f\"Boxplot of {col}\")\n",
    "        plt.show()\n"
   ]
  },
  {
   "cell_type": "code",
   "execution_count": null,
   "id": "e8c720d3-6906-4208-abac-dbaecc46b12a",
   "metadata": {},
   "outputs": [],
   "source": [
    "#categories vs Target\n",
    "\n",
    "sns.countplot(x='quality', data=dataframe)\n",
    "sns.boxplot(x='quality', y='alcohol', data=dataframe)\n",
    "\n"
   ]
  },
  {
   "cell_type": "code",
   "execution_count": null,
   "id": "6339fe9a-75b1-4b52-bd56-5b40f5016ab6",
   "metadata": {},
   "outputs": [],
   "source": [
    "#Pairplot to inspect feature interactions:\n",
    "\n",
    "sns.pairplot(dataframe[['alcohol', 'quality', 'sulphates', 'volatile acidity']])\n"
   ]
  },
  {
   "cell_type": "code",
   "execution_count": null,
   "id": "0678ce9b-e692-4f73-a8b5-149bc4c6ccc7",
   "metadata": {},
   "outputs": [],
   "source": [
    "#missing value checking\n",
    "\n",
    "print(dataframe.columns.tolist())\n"
   ]
  },
  {
   "cell_type": "code",
   "execution_count": null,
   "id": "eeb4161c-e647-4463-afef-eda55288f0bd",
   "metadata": {},
   "outputs": [],
   "source": [
    "dataframe.columns = dataframe.columns.str.strip()\n"
   ]
  },
  {
   "cell_type": "code",
   "execution_count": null,
   "id": "29fd8062-d3b9-4e30-8e42-756e8d8bdeea",
   "metadata": {},
   "outputs": [],
   "source": [
    "dataframe.columns"
   ]
  },
  {
   "cell_type": "code",
   "execution_count": null,
   "id": "43c3da5c-257c-4bca-9414-759c483f1ee0",
   "metadata": {},
   "outputs": [],
   "source": [
    "dataframe[['fixed acidity', 'volatile acidity', 'citric acid', 'residual sugar',\n",
    "       'chlorides', 'free sulfur dioxide', 'total sulfur dioxide', 'density',\n",
    "       'pH', 'sulphates', 'alcohol', 'quality', 'Id']]"
   ]
  },
  {
   "cell_type": "code",
   "execution_count": null,
   "id": "bee92e61-78b8-474f-ab2d-73a0b140d896",
   "metadata": {},
   "outputs": [],
   "source": [
    "#feature realtionship\n",
    "\n",
    "sns.heatmap(dataframe.corr(), annot=True)\n",
    "sns.boxplot(x='pH', y='quality', data=dataframe)\n"
   ]
  },
  {
   "cell_type": "code",
   "execution_count": null,
   "id": "01251b99-170b-4430-97de-e3818ccce33a",
   "metadata": {},
   "outputs": [],
   "source": [
    "import numpy as np\n",
    "\n",
    "# Flag 0s as NaN in key columns\n",
    "suspect_cols = ['fixed acidity', 'citric acid', 'residual sugar', 'chlorides',\n",
    "                'free sulfur dioxide', 'total sulfur dioxide', 'density',\n",
    "                'pH', 'sulphates', 'alcohol']\n",
    "\n",
    "dataframe[suspect_cols] = dataframe[suspect_cols].replace(0, np.nan)\n",
    "\n",
    "# View missing count\n",
    "print(dataframe[suspect_cols].isnull().sum())\n"
   ]
  },
  {
   "cell_type": "code",
   "execution_count": null,
   "id": "5e41d79c-c7de-4ffe-85f7-66b36f35059d",
   "metadata": {},
   "outputs": [],
   "source": [
    "import seaborn as sns\n",
    "import matplotlib.pyplot as plt\n",
    "\n",
    "for col in suspect_cols:\n",
    "    plt.figure(figsize=(6, 3))\n",
    "    sns.histplot(dataframe[col], kde=True, bins=30)\n",
    "    plt.title(f'Distribution of {col}')\n",
    "    plt.tight_layout()\n",
    "    plt.show()\n"
   ]
  },
  {
   "cell_type": "code",
   "execution_count": null,
   "id": "11970776-f8fd-4371-87cc-9a7302c01722",
   "metadata": {},
   "outputs": [],
   "source": [
    "sns.pairplot(dataframe[['alcohol', 'quality', 'sulphates', 'volatile acidity']],\n",
    "             hue='quality', palette='husl')\n",
    "plt.suptitle(\"Pairwise Relationships Among Key Features\", y=1.02)\n"
   ]
  },
  {
   "cell_type": "code",
   "execution_count": null,
   "id": "884089e1-7a44-4bef-bb32-8ad82b5edfb0",
   "metadata": {},
   "outputs": [],
   "source": [
    "sns.countplot(x='quality', data=dataframe, palette='Set2')\n",
    "plt.title(\"Wine Quality Distribution\")\n",
    "plt.show()\n"
   ]
  },
  {
   "cell_type": "code",
   "execution_count": null,
   "id": "0867494a-7f94-4575-8d17-2ee594066901",
   "metadata": {},
   "outputs": [],
   "source": [
    "#splitting into x and Y"
   ]
  },
  {
   "cell_type": "code",
   "execution_count": null,
   "id": "f1d8a048-9db2-4026-ba63-ec7482f3fe7f",
   "metadata": {},
   "outputs": [],
   "source": [
    "x=dataframe.drop(columns='quality',axis=1)\n",
    "y=dataframe['quality']"
   ]
  },
  {
   "cell_type": "code",
   "execution_count": null,
   "id": "f1def99c-04fd-4b5c-bfc4-dbb4b2ff7f28",
   "metadata": {},
   "outputs": [],
   "source": [
    "x.columns\n"
   ]
  },
  {
   "cell_type": "code",
   "execution_count": null,
   "id": "702b4963-6ee1-4562-9340-ae023179ced7",
   "metadata": {},
   "outputs": [],
   "source": [
    "#training and testing"
   ]
  },
  {
   "cell_type": "code",
   "execution_count": null,
   "id": "45cfebc6-e269-4e7f-827f-0ed48ebcd308",
   "metadata": {},
   "outputs": [],
   "source": [
    "from sklearn.model_selection import train_test_split\n",
    "x_train, x_test, y_train, y_test=train_test_split(x,y)\n"
   ]
  },
  {
   "cell_type": "code",
   "execution_count": null,
   "id": "8fe08066-c59c-4290-96ce-d5482d9c2c02",
   "metadata": {},
   "outputs": [],
   "source": [
    "#data modeling"
   ]
  },
  {
   "cell_type": "code",
   "execution_count": null,
   "id": "14532414-0e72-468e-abcb-f4f4c627e249",
   "metadata": {},
   "outputs": [],
   "source": [
    "from sklearn.tree import DecisionTreeClassifier\n",
    "model=DecisionTreeClassifier()\n",
    "model.fit(x_train, y_train)"
   ]
  },
  {
   "cell_type": "code",
   "execution_count": null,
   "id": "50c9d6b9-5624-45aa-a215-0e05920f654b",
   "metadata": {},
   "outputs": [],
   "source": [
    "#model prediction"
   ]
  },
  {
   "cell_type": "code",
   "execution_count": null,
   "id": "e518ed03-7300-42f9-bd83-2995ba91d4e7",
   "metadata": {},
   "outputs": [],
   "source": [
    "y_pred=model.predict(x_test)\n",
    "y_pred"
   ]
  },
  {
   "cell_type": "code",
   "execution_count": null,
   "id": "5252bdaa-3ede-419e-8723-90a70bb3d632",
   "metadata": {},
   "outputs": [],
   "source": [
    "from sklearn import tree\n",
    "plt.figure(figsize=(20,20))\n",
    "tree.plot_tree(model,filled=True)"
   ]
  },
  {
   "cell_type": "code",
   "execution_count": null,
   "id": "ef4efc6d-0525-429d-a1e2-d852d499c982",
   "metadata": {},
   "outputs": [],
   "source": [
    "# reducing data size\n",
    "\n",
    "sampleData=dataframe.head(20)\n",
    "sampleData"
   ]
  },
  {
   "cell_type": "code",
   "execution_count": null,
   "id": "417e8fed-65c3-4f19-9707-468c8004daed",
   "metadata": {},
   "outputs": [],
   "source": [
    "x_sample=sampleData.drop(columns='quality',axis=1)\n",
    "y_sample=sampleData['quality']"
   ]
  },
  {
   "cell_type": "code",
   "execution_count": null,
   "id": "a6514fea-006c-4225-b4b5-e71aca4cf7f3",
   "metadata": {},
   "outputs": [],
   "source": [
    "sampleModel=DecisionTreeClassifier()\n",
    "sampleModel.fit(x_sample,y_sample)"
   ]
  },
  {
   "cell_type": "code",
   "execution_count": null,
   "id": "30a4c38d-9af5-4371-b31a-0ffe990148d8",
   "metadata": {},
   "outputs": [],
   "source": [
    "sampleData.columns"
   ]
  },
  {
   "cell_type": "code",
   "execution_count": null,
   "id": "b5b8a34a-eecf-4955-964b-e1d6bc1becdd",
   "metadata": {},
   "outputs": [],
   "source": [
    "from sklearn import tree\n",
    "plt.figure(figsize=(20,20))\n",
    "tree.plot_tree(sampleModel,filled=True)"
   ]
  },
  {
   "cell_type": "code",
   "execution_count": null,
   "id": "107bad16-d4d9-4281-91e2-c59a05cb26b6",
   "metadata": {},
   "outputs": [],
   "source": [
    "#reason of three values \n",
    "\n",
    "set(sampleData.quality)"
   ]
  },
  {
   "cell_type": "code",
   "execution_count": null,
   "id": "f06125bf-28ff-4179-ada4-4e1bebab6587",
   "metadata": {},
   "outputs": [],
   "source": [
    "#model evoluation"
   ]
  },
  {
   "cell_type": "code",
   "execution_count": null,
   "id": "18fcc57c-0d39-46de-80ca-d071f6797123",
   "metadata": {},
   "outputs": [],
   "source": [
    "from sklearn.metrics import classification_report\n",
    "print(classification_report(y_pred,y_test))"
   ]
  },
  {
   "cell_type": "code",
   "execution_count": null,
   "id": "1992977a-f689-4283-b87c-6a08cf4655c9",
   "metadata": {},
   "outputs": [],
   "source": [
    "#Random forest classifier\n"
   ]
  },
  {
   "cell_type": "code",
   "execution_count": null,
   "id": "f81f2a40-c113-4452-a4e4-251877044413",
   "metadata": {},
   "outputs": [],
   "source": [
    "from sklearn.ensemble import RandomForestClassifier\n",
    "rf=RandomForestClassifier()\n",
    "rf.fit(x_train,y_train)"
   ]
  },
  {
   "cell_type": "code",
   "execution_count": null,
   "id": "07ff7911-baeb-4b4f-9f99-7663222da4c0",
   "metadata": {},
   "outputs": [],
   "source": [
    "rf.score(x_test,y_test)"
   ]
  },
  {
   "cell_type": "code",
   "execution_count": null,
   "id": "f9e47466-f33c-4bb6-859c-0b22f0f299cc",
   "metadata": {},
   "outputs": [],
   "source": [
    "y_predict_rf=rf.predict(x_test)\n",
    "print(y_predict_rf)"
   ]
  },
  {
   "cell_type": "code",
   "execution_count": null,
   "id": "c357ca31-0311-4a4b-879b-55bcdd1f4626",
   "metadata": {},
   "outputs": [],
   "source": [
    "rf.estimators_"
   ]
  },
  {
   "cell_type": "code",
   "execution_count": null,
   "id": "168afd12-e86a-4c09-abf7-b9524856aa51",
   "metadata": {},
   "outputs": [],
   "source": [
    "plt.figure(figsize=(10,10))\n",
    "tree.plot_tree(rf.estimators_[0],filled=True)"
   ]
  },
  {
   "cell_type": "code",
   "execution_count": null,
   "id": "6c7bb935-370c-4670-ab95-cfb49895b35b",
   "metadata": {},
   "outputs": [],
   "source": [
    "lst=[DecisionTreeClassifier(max_features='sqrt', random_state=234495781),\n",
    " DecisionTreeClassifier(max_features='sqrt', random_state=1315527214),\n",
    " DecisionTreeClassifier(max_features='sqrt', random_state=2065493311),\n",
    " DecisionTreeClassifier(max_features='sqrt', random_state=518839515),\n",
    " DecisionTreeClassifier(max_features='sqrt', random_state=574172618),\n",
    " DecisionTreeClassifier(max_features='sqrt', random_state=1193573467),\n",
    " DecisionTreeClassifier(max_features='sqrt', random_state=1547755361),\n",
    " DecisionTreeClassifier(max_features='sqrt', random_state=1561627490),\n",
    " DecisionTreeClassifier(max_features='sqrt', random_state=617413769),\n",
    " DecisionTreeClassifier(max_features='sqrt', random_state=142329105),\n",
    " DecisionTreeClassifier(max_features='sqrt', random_state=804892943),\n",
    " DecisionTreeClassifier(max_features='sqrt', random_state=1842931465),\n",
    " DecisionTreeClassifier(max_features='sqrt', random_state=2119749969),\n",
    " DecisionTreeClassifier(max_features='sqrt', random_state=254127678),\n",
    " DecisionTreeClassifier(max_features='sqrt', random_state=144493324),\n",
    " DecisionTreeClassifier(max_features='sqrt', random_state=447906888),\n",
    " DecisionTreeClassifier(max_features='sqrt', random_state=1111262619),\n",
    " DecisionTreeClassifier(max_features='sqrt', random_state=1784961376),\n",
    " DecisionTreeClassifier(max_features='sqrt', random_state=1380678333),\n",
    " DecisionTreeClassifier(max_features='sqrt', random_state=471636108),\n",
    " DecisionTreeClassifier(max_features='sqrt', random_state=109435516),\n",
    " DecisionTreeClassifier(max_features='sqrt', random_state=1121991259),\n",
    " DecisionTreeClassifier(max_features='sqrt', random_state=994886649),\n",
    " DecisionTreeClassifier(max_features='sqrt', random_state=1388226063),\n",
    " DecisionTreeClassifier(max_features='sqrt', random_state=2101002591),\n",
    " DecisionTreeClassifier(max_features='sqrt', random_state=79906296),\n",
    " DecisionTreeClassifier(max_features='sqrt', random_state=1085855522),\n",
    " DecisionTreeClassifier(max_features='sqrt', random_state=339671473),\n",
    " DecisionTreeClassifier(max_features='sqrt', random_state=1379863843),\n",
    " DecisionTreeClassifier(max_features='sqrt', random_state=616427054),\n",
    " DecisionTreeClassifier(max_features='sqrt', random_state=609459996),\n",
    " DecisionTreeClassifier(max_features='sqrt', random_state=969049706),\n",
    " DecisionTreeClassifier(max_features='sqrt', random_state=185523677),\n",
    " DecisionTreeClassifier(max_features='sqrt', random_state=516275234),\n",
    " DecisionTreeClassifier(max_features='sqrt', random_state=437204668),\n",
    " DecisionTreeClassifier(max_features='sqrt', random_state=80827513),\n",
    " DecisionTreeClassifier(max_features='sqrt', random_state=736978323),\n",
    " DecisionTreeClassifier(max_features='sqrt', random_state=643333271),\n",
    " DecisionTreeClassifier(max_features='sqrt', random_state=1069306105),\n",
    " DecisionTreeClassifier(max_features='sqrt', random_state=1550562956),\n",
    " DecisionTreeClassifier(max_features='sqrt', random_state=1236308392),\n",
    " DecisionTreeClassifier(max_features='sqrt', random_state=1505100828),\n",
    " DecisionTreeClassifier(max_features='sqrt', random_state=1458479265),\n",
    " DecisionTreeClassifier(max_features='sqrt', random_state=223673902),\n",
    " DecisionTreeClassifier(max_features='sqrt', random_state=2063857725),\n",
    " DecisionTreeClassifier(max_features='sqrt', random_state=187627091),\n",
    " DecisionTreeClassifier(max_features='sqrt', random_state=502981292),\n",
    " DecisionTreeClassifier(max_features='sqrt', random_state=753334247),\n",
    " DecisionTreeClassifier(max_features='sqrt', random_state=1709656856),\n",
    " DecisionTreeClassifier(max_features='sqrt', random_state=1857301175),\n",
    " DecisionTreeClassifier(max_features='sqrt', random_state=2042838618),\n",
    " DecisionTreeClassifier(max_features='sqrt', random_state=2086594277),\n",
    " DecisionTreeClassifier(max_features='sqrt', random_state=570767012),\n",
    " DecisionTreeClassifier(max_features='sqrt', random_state=557370185),\n",
    " DecisionTreeClassifier(max_features='sqrt', random_state=1460407713),\n",
    " DecisionTreeClassifier(max_features='sqrt', random_state=1880692327),\n",
    " DecisionTreeClassifier(max_features='sqrt', random_state=1400689713),\n",
    " DecisionTreeClassifier(max_features='sqrt', random_state=1028429188),\n",
    " DecisionTreeClassifier(max_features='sqrt', random_state=1881174615),\n",
    " DecisionTreeClassifier(max_features='sqrt', random_state=636993610),\n",
    " DecisionTreeClassifier(max_features='sqrt', random_state=2049790056),\n",
    " DecisionTreeClassifier(max_features='sqrt', random_state=991635502),\n",
    " DecisionTreeClassifier(max_features='sqrt', random_state=691815677),\n",
    " DecisionTreeClassifier(max_features='sqrt', random_state=911179973),\n",
    " DecisionTreeClassifier(max_features='sqrt', random_state=394130173),\n",
    " DecisionTreeClassifier(max_features='sqrt', random_state=1594088442),\n",
    " DecisionTreeClassifier(max_features='sqrt', random_state=1401998687),\n",
    " DecisionTreeClassifier(max_features='sqrt', random_state=894269349),\n",
    " DecisionTreeClassifier(max_features='sqrt', random_state=712592422),\n",
    " DecisionTreeClassifier(max_features='sqrt', random_state=1486384945),\n",
    " DecisionTreeClassifier(max_features='sqrt', random_state=260655411),\n",
    " DecisionTreeClassifier(max_features='sqrt', random_state=1327359988),\n",
    " DecisionTreeClassifier(max_features='sqrt', random_state=747039640),\n",
    " DecisionTreeClassifier(max_features='sqrt', random_state=1902763471),\n",
    " DecisionTreeClassifier(max_features='sqrt', random_state=513241775),\n",
    " DecisionTreeClassifier(max_features='sqrt', random_state=1844636598),\n",
    " DecisionTreeClassifier(max_features='sqrt', random_state=704401553),\n",
    " DecisionTreeClassifier(max_features='sqrt', random_state=1465272016),\n",
    " DecisionTreeClassifier(max_features='sqrt', random_state=2022038624),\n",
    " DecisionTreeClassifier(max_features='sqrt', random_state=1362166342),\n",
    " DecisionTreeClassifier(max_features='sqrt', random_state=1978600050),\n",
    " DecisionTreeClassifier(max_features='sqrt', random_state=1905205852),\n",
    " DecisionTreeClassifier(max_features='sqrt', random_state=244430675),\n",
    " DecisionTreeClassifier(max_features='sqrt', random_state=1328407167),\n",
    " DecisionTreeClassifier(max_features='sqrt', random_state=1160548429),\n",
    " DecisionTreeClassifier(max_features='sqrt', random_state=1411197528),\n",
    " DecisionTreeClassifier(max_features='sqrt', random_state=1533241838),\n",
    " DecisionTreeClassifier(max_features='sqrt', random_state=1709624254),\n",
    " DecisionTreeClassifier(max_features='sqrt', random_state=615974016),\n",
    " DecisionTreeClassifier(max_features='sqrt', random_state=758128),\n",
    " DecisionTreeClassifier(max_features='sqrt', random_state=1143520286),\n",
    " DecisionTreeClassifier(max_features='sqrt', random_state=1012277934),\n",
    " DecisionTreeClassifier(max_features='sqrt', random_state=1403997446),\n",
    " DecisionTreeClassifier(max_features='sqrt', random_state=1716373182),\n",
    " DecisionTreeClassifier(max_features='sqrt', random_state=225887404),\n",
    " DecisionTreeClassifier(max_features='sqrt', random_state=1820479719),\n",
    " DecisionTreeClassifier(max_features='sqrt', random_state=1667656174),\n",
    " DecisionTreeClassifier(max_features='sqrt', random_state=198896365),\n",
    " DecisionTreeClassifier(max_features='sqrt', random_state=1202949791),\n",
    " DecisionTreeClassifier(max_features='sqrt', random_state=1984333749)]"
   ]
  },
  {
   "cell_type": "code",
   "execution_count": null,
   "id": "dd80dd45-7159-4f50-8bb6-313b67e531cd",
   "metadata": {},
   "outputs": [],
   "source": [
    "print(len(lst))"
   ]
  },
  {
   "cell_type": "code",
   "execution_count": null,
   "id": "8fea8fb8-aaa0-4f13-b214-4ae76880db12",
   "metadata": {},
   "outputs": [],
   "source": [
    "grid_param = {\n",
    "    \"n_estimators\": [5, 10, 50, 100, 120, 150],\n",
    "    \"criterion\": [\"gini\", \"entropy\"],\n",
    "    \"max_depth\": range(5),  # range(10) gives [0–9], so I adjusted to [1–10]\n",
    "    # \"min_samples_leaf\": list(range(1, 11))  # range(10) also starts from 0 by default\n",
    "}\n"
   ]
  },
  {
   "cell_type": "code",
   "execution_count": null,
   "id": "0a15dcd4-2157-4d62-96d8-151e62a7b404",
   "metadata": {},
   "outputs": [],
   "source": [
    "from sklearn.model_selection import GridSearchCV\n",
    "\n",
    "grid_search_rf = GridSearchCV(\n",
    "    estimator=rf,\n",
    "    param_grid=grid_param,  # Make sure this matches your earlier dictionary name\n",
    "    cv=10,\n",
    "    n_jobs=-6,              # Should be negative only if you want to use all CPUs; use n_jobs=-1 for max cores\n",
    "    verbose=1\n",
    ")\n",
    "\n",
    "grid_search_rf.fit(x_train, y_train)\n"
   ]
  },
  {
   "cell_type": "code",
   "execution_count": null,
   "id": "ef74deb5-72d5-4abc-8350-861ee1e0eb22",
   "metadata": {},
   "outputs": [],
   "source": [
    "grid_search_rf.best_params_"
   ]
  },
  {
   "cell_type": "code",
   "execution_count": null,
   "id": "6ee3d59d-2b4b-492e-acd7-9027f76afa3d",
   "metadata": {},
   "outputs": [],
   "source": [
    "rf_new=RandomForestClassifier(n_estimators=120, criterion='entropy',max_depth=4)\n",
    "rf_new.fit(x_train, y_train)"
   ]
  },
  {
   "cell_type": "code",
   "execution_count": null,
   "id": "d84dfe3c-e135-4c2b-a783-1b95c64f3ccd",
   "metadata": {},
   "outputs": [],
   "source": [
    "rf_new.score(x_train,y_train)"
   ]
  },
  {
   "cell_type": "code",
   "execution_count": null,
   "id": "fcf1e951-f4f9-4106-9be5-29510024160a",
   "metadata": {},
   "outputs": [],
   "source": [
    "#explore the implementation of randomsearchCV on the top of randomforest algorithm"
   ]
  },
  {
   "cell_type": "code",
   "execution_count": null,
   "id": "0e2d9858-d028-4534-bbd4-9a5d2744b568",
   "metadata": {},
   "outputs": [],
   "source": [
    "from sklearn.ensemble import RandomForestClassifier\n",
    "from sklearn.model_selection import RandomizedSearchCV\n",
    "from scipy.stats import randint\n",
    "\n",
    "# 1. Define the model\n",
    "rf = RandomForestClassifier(random_state=42)\n",
    "\n",
    "# 2. Define hyperparameter distributions\n",
    "param_dist = {\n",
    "    \"n_estimators\": randint(10,100 ),\n",
    "    \"max_depth\": randint(2, 10),\n",
    "    \"min_samples_split\": randint(2, 100),\n",
    "    \"min_samples_leaf\": randint(1, 10),\n",
    "    \"criterion\": [\"gini\", \"entropy\"]\n",
    "}\n",
    "\n",
    "# 3. Set up RandomizedSearchCV\n",
    "random_search = RandomizedSearchCV(\n",
    "    estimator=rf,\n",
    "    param_distributions=param_dist,\n",
    "    n_iter=50,             # Number of parameter settings sampled\n",
    "    cv=10,                 # 10-fold cross-validation\n",
    "    n_jobs=-1,             # Use all CPU cores\n",
    "    verbose=1,\n",
    "    random_state=42\n",
    ")\n",
    "\n",
    "# 4. Fit to data\n",
    "random_search.fit(x_train, y_train)\n"
   ]
  },
  {
   "cell_type": "code",
   "execution_count": null,
   "id": "f74abec2-2cc1-4752-a4c7-59fd15b99a24",
   "metadata": {},
   "outputs": [],
   "source": [
    "# Best parameters\n",
    "print(\"Best Parameters:\", random_search.best_params_)\n",
    "\n",
    "# Best estimator\n",
    "best_rf = random_search.best_estimator_\n",
    "y_pred = best_rf.predict(x_test)\n",
    "\n",
    "# Performance report\n",
    "from sklearn.metrics import classification_report\n",
    "print(classification_report(y_test, y_pred))\n"
   ]
  },
  {
   "cell_type": "code",
   "execution_count": null,
   "id": "f0c6453c-bced-490e-819e-eab97286f747",
   "metadata": {},
   "outputs": [],
   "source": []
  }
 ],
 "metadata": {
  "kernelspec": {
   "display_name": "Python [conda env:anaconda3]",
   "language": "python",
   "name": "conda-env-anaconda3-py"
  },
  "language_info": {
   "codemirror_mode": {
    "name": "ipython",
    "version": 3
   },
   "file_extension": ".py",
   "mimetype": "text/x-python",
   "name": "python",
   "nbconvert_exporter": "python",
   "pygments_lexer": "ipython3",
   "version": "3.12.7"
  }
 },
 "nbformat": 4,
 "nbformat_minor": 5
}
